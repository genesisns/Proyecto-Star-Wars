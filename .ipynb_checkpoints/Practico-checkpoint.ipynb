{
 "cells": [
  {
   "cell_type": "markdown",
   "id": "a49e9927-f016-4660-89df-26c5800aea8b",
   "metadata": {},
   "source": [
    "# Práctico"
   ]
  },
  {
   "cell_type": "markdown",
   "id": "5fe2ae9e-6076-4a12-931c-5349ee7eb2d3",
   "metadata": {
    "jp-MarkdownHeadingCollapsed": true,
    "tags": []
   },
   "source": [
    "El trabajo práctico de la materia consiste en el análisis de un conjunto de datos extraído de Twitter. La idea es emplear los conceptos de grafos vistos en clase sobre un caso real de actualidad.\n",
    "\n",
    "## Dataset\n",
    "\n",
    "El dataset consiste en un conjunto de hilos de tweets, con un total de ~150000 tweets, extraídos entre Enero y Marzo de 2021. La temática de los mismos está referida a la vacunación contra el covid-19 en Argentina.\n",
    "\n",
    "Pueden descargar el dataset del siguiente [link](https://drive.google.com/file/d/1X_qKsE8muAnom2tDX4sLlmBAO0Ikfe_G/view?usp=sharing).\n",
    "\n",
    "### Campos\n",
    "\n",
    "- **created_at:** Fecha del tweet\n",
    "- **id_str:** ID del tweet\n",
    "- **full_text:** Contenido del tweet\n",
    "- **in_reply_to_status_id:** ID del tweet inmediatamente anterior en el hilo\n",
    "- **in_reply_to_user_id:** Autor del tweet inmediatamente anterior en el hilo\n",
    "- **user.id:** Autor del tweet\n",
    "- **user_retweeters:** Lista de ID de usuarios que retweetearon el tweet\n",
    "- **sentiment:** Etiquetado manual que indica el sentimiento o intención del tweet con respecto al tweet anterior en el hilo"
   ]
  },
  {
   "cell_type": "markdown",
   "id": "8eed8c8b-8c40-4d18-b4ad-c853e1c3b7d1",
   "metadata": {},
   "source": [
    "## Configuración inicial"
   ]
  },
  {
   "cell_type": "code",
   "execution_count": 1,
   "id": "a23c83a7-0c4e-4bff-b8cb-253671e5d1d6",
   "metadata": {},
   "outputs": [],
   "source": [
    "import pandas as pd\n",
    "from pathlib import Path\n",
    "import networkx as nx\n",
    "import igraph as ig\n",
    "\n",
    "import matplotlib.pyplot as plt\n",
    "import numpy as np\n",
    "from time import time\n",
    "\n",
    "## Descargar el csv con los datos en este directorio\n",
    "DATA_DIR = Path('./data')\n",
    "INPUT_FILE = DATA_DIR / 'vacunas.csv'\n",
    "\n",
    "## Creamos el directorio en caso de que no exista\n",
    "DATA_DIR.mkdir(parents=True, exist_ok=True)"
   ]
  },
  {
   "cell_type": "markdown",
   "id": "acf6889f-86be-4fc8-b281-a738b8d475c4",
   "metadata": {},
   "source": [
    "### Cargamos el dataset"
   ]
  },
  {
   "cell_type": "code",
   "execution_count": 2,
   "id": "e43cef47-be3b-47ba-9a07-9373013580ec",
   "metadata": {},
   "outputs": [
    {
     "name": "stdout",
     "output_type": "stream",
     "text": [
      "(155123, 8)\n"
     ]
    },
    {
     "data": {
      "text/html": [
       "<div>\n",
       "<style scoped>\n",
       "    .dataframe tbody tr th:only-of-type {\n",
       "        vertical-align: middle;\n",
       "    }\n",
       "\n",
       "    .dataframe tbody tr th {\n",
       "        vertical-align: top;\n",
       "    }\n",
       "\n",
       "    .dataframe thead th {\n",
       "        text-align: right;\n",
       "    }\n",
       "</style>\n",
       "<table border=\"1\" class=\"dataframe\">\n",
       "  <thead>\n",
       "    <tr style=\"text-align: right;\">\n",
       "      <th></th>\n",
       "      <th>created_at</th>\n",
       "      <th>id_str</th>\n",
       "      <th>full_text</th>\n",
       "      <th>in_reply_to_status_id</th>\n",
       "      <th>in_reply_to_user_id</th>\n",
       "      <th>user.id</th>\n",
       "      <th>user_retweeters</th>\n",
       "      <th>sentiment</th>\n",
       "    </tr>\n",
       "  </thead>\n",
       "  <tbody>\n",
       "    <tr>\n",
       "      <th>0</th>\n",
       "      <td>Sat Feb 20 03:09:10 +0000 2021</td>\n",
       "      <td>1362962469749153792</td>\n",
       "      <td>Seguimos esperando el comunicado de @norabar r...</td>\n",
       "      <td>NaN</td>\n",
       "      <td>NaN</td>\n",
       "      <td>2737379453</td>\n",
       "      <td>[2258074658, 159909978, 105301854, 290671142, ...</td>\n",
       "      <td>NaN</td>\n",
       "    </tr>\n",
       "    <tr>\n",
       "      <th>1</th>\n",
       "      <td>Sat Feb 20 03:19:59 +0000 2021</td>\n",
       "      <td>1362965193509265417</td>\n",
       "      <td>@Clon_43 @norabar Nora estaba indignada porque...</td>\n",
       "      <td>1362962469749153792</td>\n",
       "      <td>2737379453</td>\n",
       "      <td>32718111</td>\n",
       "      <td>[]</td>\n",
       "      <td>NaN</td>\n",
       "    </tr>\n",
       "    <tr>\n",
       "      <th>2</th>\n",
       "      <td>Mon Feb 22 23:55:08 +0000 2021</td>\n",
       "      <td>1364000806740111363</td>\n",
       "      <td>Bueno, Alberto dijo Salud o Economía. La salud...</td>\n",
       "      <td>NaN</td>\n",
       "      <td>NaN</td>\n",
       "      <td>252168075</td>\n",
       "      <td>[1238117630696972289, 37232479, 12792246571247...</td>\n",
       "      <td>NaN</td>\n",
       "    </tr>\n",
       "    <tr>\n",
       "      <th>3</th>\n",
       "      <td>Tue Feb 23 00:09:14 +0000 2021</td>\n",
       "      <td>1364004354374696963</td>\n",
       "      <td>@spitta1969 Tuit del mes Spitta</td>\n",
       "      <td>1364000806740111363</td>\n",
       "      <td>252168075</td>\n",
       "      <td>1156346340802224128</td>\n",
       "      <td>[]</td>\n",
       "      <td>NaN</td>\n",
       "    </tr>\n",
       "    <tr>\n",
       "      <th>4</th>\n",
       "      <td>Tue Feb 23 00:00:17 +0000 2021</td>\n",
       "      <td>1364002100364128260</td>\n",
       "      <td>@spitta1969 Estas onfire</td>\n",
       "      <td>1364000806740111363</td>\n",
       "      <td>252168075</td>\n",
       "      <td>153663816</td>\n",
       "      <td>[]</td>\n",
       "      <td>NaN</td>\n",
       "    </tr>\n",
       "  </tbody>\n",
       "</table>\n",
       "</div>"
      ],
      "text/plain": [
       "                       created_at               id_str  \\\n",
       "0  Sat Feb 20 03:09:10 +0000 2021  1362962469749153792   \n",
       "1  Sat Feb 20 03:19:59 +0000 2021  1362965193509265417   \n",
       "2  Mon Feb 22 23:55:08 +0000 2021  1364000806740111363   \n",
       "3  Tue Feb 23 00:09:14 +0000 2021  1364004354374696963   \n",
       "4  Tue Feb 23 00:00:17 +0000 2021  1364002100364128260   \n",
       "\n",
       "                                           full_text in_reply_to_status_id  \\\n",
       "0  Seguimos esperando el comunicado de @norabar r...                   NaN   \n",
       "1  @Clon_43 @norabar Nora estaba indignada porque...   1362962469749153792   \n",
       "2  Bueno, Alberto dijo Salud o Economía. La salud...                   NaN   \n",
       "3                    @spitta1969 Tuit del mes Spitta   1364000806740111363   \n",
       "4                           @spitta1969 Estas onfire   1364000806740111363   \n",
       "\n",
       "  in_reply_to_user_id              user.id  \\\n",
       "0                 NaN           2737379453   \n",
       "1          2737379453             32718111   \n",
       "2                 NaN            252168075   \n",
       "3           252168075  1156346340802224128   \n",
       "4           252168075            153663816   \n",
       "\n",
       "                                     user_retweeters sentiment  \n",
       "0  [2258074658, 159909978, 105301854, 290671142, ...       NaN  \n",
       "1                                                 []       NaN  \n",
       "2  [1238117630696972289, 37232479, 12792246571247...       NaN  \n",
       "3                                                 []       NaN  \n",
       "4                                                 []       NaN  "
      ]
     },
     "execution_count": 2,
     "metadata": {},
     "output_type": "execute_result"
    }
   ],
   "source": [
    "dtypes = {\n",
    "    'id_str': str,\n",
    "    'full_text': str,\n",
    "    'in_reply_to_status_id': str,\n",
    "    'in_reply_to_user_id': str,\n",
    "    'user.id': str\n",
    "}\n",
    "df = pd.read_csv(INPUT_FILE, dtype=dtypes).dropna(subset=['user_retweeters'])\n",
    "df['user_retweeters'] = df['user_retweeters'].apply(lambda x: [str(elem) for elem in eval(x)])\n",
    "print(df.shape)\n",
    "df.head()"
   ]
  },
  {
   "cell_type": "markdown",
   "id": "bd778ff2-c52b-4541-83bb-ab515e233fb3",
   "metadata": {
    "tags": []
   },
   "source": [
    "### Observamos algunos ejemplos"
   ]
  },
  {
   "cell_type": "code",
   "execution_count": 3,
   "id": "626fb5fa-2875-47c0-9e30-cb1a456a1c13",
   "metadata": {},
   "outputs": [
    {
     "name": "stdout",
     "output_type": "stream",
     "text": [
      "Texto: Seguimos esperando el comunicado de @norabar repudiando la situación respecto del gobierno y el tema vacunas. Seamos pacientes que con esto de la pandemia anda con mucho \"laburo\".\n",
      "Retweets: 9\n"
     ]
    }
   ],
   "source": [
    "idx = 0\n",
    "print('Texto:', df.full_text.values[idx])\n",
    "print('Retweets:', len(df.user_retweeters.values[idx]))"
   ]
  },
  {
   "cell_type": "code",
   "execution_count": 4,
   "id": "f6ca9ab4-d966-4613-8d06-b139b30255b8",
   "metadata": {},
   "outputs": [
    {
     "name": "stdout",
     "output_type": "stream",
     "text": [
      "Text: Todo lo que hay que entender sobre la decisión –o no– de poner más vacunas en más brazos (por ejemplo, usar las 1º dosis en muchos y si es necesario retrasar la 2º) está en esta excelente nota de Nora Bär. https://t.co/A0I03DyxgO\n",
      "Retweets: 48\n"
     ]
    }
   ],
   "source": [
    "idx = 376\n",
    "print('Text:', df.full_text.values[idx])\n",
    "print('Retweets:', len(df.user_retweeters.values[idx]))"
   ]
  },
  {
   "cell_type": "markdown",
   "id": "1d3911d7-cc49-4d84-95b6-4f096f5f56c3",
   "metadata": {},
   "source": [
    "### Calculamos la cantidad de hilos"
   ]
  },
  {
   "cell_type": "code",
   "execution_count": 5,
   "id": "59b6c11f-5766-45e4-a264-f3733df8694d",
   "metadata": {},
   "outputs": [
    {
     "data": {
      "text/plain": [
       "(3174, 8)"
      ]
     },
     "execution_count": 5,
     "metadata": {},
     "output_type": "execute_result"
    }
   ],
   "source": [
    "roots = df[df['in_reply_to_user_id'].isna()]\n",
    "roots.shape"
   ]
  },
  {
   "cell_type": "markdown",
   "id": "9258ad30-e325-45ce-94e8-9e0ec4317df4",
   "metadata": {},
   "source": [
    "## Actividades"
   ]
  },
  {
   "cell_type": "markdown",
   "id": "70f377d2-6e8d-437c-ab01-1a314b7af7eb",
   "metadata": {
    "jp-MarkdownHeadingCollapsed": true,
    "tags": []
   },
   "source": [
    "### Primera parte\n",
    "\n",
    "#### **1. Construcción del grafo** \n",
    "\n",
    "Construir el **grafo de retweets**, definido de la siguiente manera:\n",
    "\n",
    "- Tipo de grafo: Dirigido\n",
    "- Nodos: ID de los usuarios\n",
    "- Enlaces: (Usuario A) ---> (Usuario B) si B retweeteó algún tweet de A\n",
    "\n",
    "Con estos datos, el grafo debería tener alrededor de 40000 nodos y 90000 enlaces.\n",
    "\n",
    "Considerar la versión no dirigida del grafo y estudiar su conectividad. Si existe una única \"componente gigante\", realizar el resto de las actividades sobre ella, en lugar de sobre el grafo completo.\n",
    "\n",
    "Calcular las siguientes métricas globales del grafo:\n",
    "\n",
    "- Grado medio\n",
    "- Asortatividad\n",
    "- Transitividad\n",
    "- Coeficiente de clustering de Watts-Strogatz\n",
    "\n",
    "**Opcional:** Comparar las métricas calculadas anteriormente con las de un grafo aleatorio con la misma distribución de grado. Pueden utilizar para ello este [método](https://networkx.org/documentation/stable/reference/generated/networkx.generators.degree_seq.configuration_model.html?highlight=configuration#networkx.generators.degree_seq.configuration_model). Con esto en mente, comentar si los valores obtenidos anteriormente difieren significativamente del caso aleatorio.\n",
    "\n",
    "\n"
   ]
  },
  {
   "cell_type": "code",
   "execution_count": 6,
   "id": "178d4a1b-5443-49a6-a625-95e51f80e080",
   "metadata": {},
   "outputs": [
    {
     "data": {
      "text/html": [
       "<div>\n",
       "<style scoped>\n",
       "    .dataframe tbody tr th:only-of-type {\n",
       "        vertical-align: middle;\n",
       "    }\n",
       "\n",
       "    .dataframe tbody tr th {\n",
       "        vertical-align: top;\n",
       "    }\n",
       "\n",
       "    .dataframe thead th {\n",
       "        text-align: right;\n",
       "    }\n",
       "</style>\n",
       "<table border=\"1\" class=\"dataframe\">\n",
       "  <thead>\n",
       "    <tr style=\"text-align: right;\">\n",
       "      <th></th>\n",
       "      <th>created_at</th>\n",
       "      <th>id_str</th>\n",
       "      <th>full_text</th>\n",
       "      <th>in_reply_to_status_id</th>\n",
       "      <th>in_reply_to_user_id</th>\n",
       "      <th>user.id</th>\n",
       "      <th>user_retweeters</th>\n",
       "      <th>sentiment</th>\n",
       "    </tr>\n",
       "  </thead>\n",
       "  <tbody>\n",
       "    <tr>\n",
       "      <th>0</th>\n",
       "      <td>Sat Feb 20 03:09:10 +0000 2021</td>\n",
       "      <td>1362962469749153792</td>\n",
       "      <td>Seguimos esperando el comunicado de @norabar r...</td>\n",
       "      <td>NaN</td>\n",
       "      <td>NaN</td>\n",
       "      <td>2737379453</td>\n",
       "      <td>[2258074658, 159909978, 105301854, 290671142, ...</td>\n",
       "      <td>NaN</td>\n",
       "    </tr>\n",
       "    <tr>\n",
       "      <th>1</th>\n",
       "      <td>Sat Feb 20 03:19:59 +0000 2021</td>\n",
       "      <td>1362965193509265417</td>\n",
       "      <td>@Clon_43 @norabar Nora estaba indignada porque...</td>\n",
       "      <td>1362962469749153792</td>\n",
       "      <td>2737379453</td>\n",
       "      <td>32718111</td>\n",
       "      <td>[]</td>\n",
       "      <td>NaN</td>\n",
       "    </tr>\n",
       "    <tr>\n",
       "      <th>2</th>\n",
       "      <td>Mon Feb 22 23:55:08 +0000 2021</td>\n",
       "      <td>1364000806740111363</td>\n",
       "      <td>Bueno, Alberto dijo Salud o Economía. La salud...</td>\n",
       "      <td>NaN</td>\n",
       "      <td>NaN</td>\n",
       "      <td>252168075</td>\n",
       "      <td>[1238117630696972289, 37232479, 12792246571247...</td>\n",
       "      <td>NaN</td>\n",
       "    </tr>\n",
       "    <tr>\n",
       "      <th>3</th>\n",
       "      <td>Tue Feb 23 00:09:14 +0000 2021</td>\n",
       "      <td>1364004354374696963</td>\n",
       "      <td>@spitta1969 Tuit del mes Spitta</td>\n",
       "      <td>1364000806740111363</td>\n",
       "      <td>252168075</td>\n",
       "      <td>1156346340802224128</td>\n",
       "      <td>[]</td>\n",
       "      <td>NaN</td>\n",
       "    </tr>\n",
       "    <tr>\n",
       "      <th>4</th>\n",
       "      <td>Tue Feb 23 00:00:17 +0000 2021</td>\n",
       "      <td>1364002100364128260</td>\n",
       "      <td>@spitta1969 Estas onfire</td>\n",
       "      <td>1364000806740111363</td>\n",
       "      <td>252168075</td>\n",
       "      <td>153663816</td>\n",
       "      <td>[]</td>\n",
       "      <td>NaN</td>\n",
       "    </tr>\n",
       "    <tr>\n",
       "      <th>...</th>\n",
       "      <td>...</td>\n",
       "      <td>...</td>\n",
       "      <td>...</td>\n",
       "      <td>...</td>\n",
       "      <td>...</td>\n",
       "      <td>...</td>\n",
       "      <td>...</td>\n",
       "      <td>...</td>\n",
       "    </tr>\n",
       "    <tr>\n",
       "      <th>163174</th>\n",
       "      <td>Tue Jan 12 23:24:10 +0000 2021</td>\n",
       "      <td>1349135109010677767</td>\n",
       "      <td>@Die_IsCast @norabar @enzosebastin221 Retuitea...</td>\n",
       "      <td>1349122147587940353</td>\n",
       "      <td>2955376486</td>\n",
       "      <td>176835482</td>\n",
       "      <td>[]</td>\n",
       "      <td>NaN</td>\n",
       "    </tr>\n",
       "    <tr>\n",
       "      <th>163175</th>\n",
       "      <td>Wed Jan 13 01:56:56 +0000 2021</td>\n",
       "      <td>1349173553833381888</td>\n",
       "      <td>@todosflotan @norabar @enzosebastin221 Sí, sí,...</td>\n",
       "      <td>1349135109010677767</td>\n",
       "      <td>176835482</td>\n",
       "      <td>2955376486</td>\n",
       "      <td>[]</td>\n",
       "      <td>NaN</td>\n",
       "    </tr>\n",
       "    <tr>\n",
       "      <th>163176</th>\n",
       "      <td>Wed Jan 13 02:02:07 +0000 2021</td>\n",
       "      <td>1349174860702953474</td>\n",
       "      <td>@Die_IsCast @norabar @enzosebastin221 seguí co...</td>\n",
       "      <td>1349173553833381888</td>\n",
       "      <td>2955376486</td>\n",
       "      <td>176835482</td>\n",
       "      <td>[]</td>\n",
       "      <td>NaN</td>\n",
       "    </tr>\n",
       "    <tr>\n",
       "      <th>163177</th>\n",
       "      <td>Tue Jan 12 15:07:16 +0000 2021</td>\n",
       "      <td>1349010059712491522</td>\n",
       "      <td>@mirtapsp @todosflotan @norabar Nora, trabaja ...</td>\n",
       "      <td>1349002034968719360</td>\n",
       "      <td>138734328</td>\n",
       "      <td>1219302815916527618</td>\n",
       "      <td>[]</td>\n",
       "      <td>NaN</td>\n",
       "    </tr>\n",
       "    <tr>\n",
       "      <th>163178</th>\n",
       "      <td>Tue Jan 12 22:38:02 +0000 2021</td>\n",
       "      <td>1349123499030437888</td>\n",
       "      <td>@altiroweon @norabar @carlavizzotti https://t....</td>\n",
       "      <td>1349099459033116675</td>\n",
       "      <td>1015463782259273728</td>\n",
       "      <td>2955376486</td>\n",
       "      <td>[]</td>\n",
       "      <td>NaN</td>\n",
       "    </tr>\n",
       "  </tbody>\n",
       "</table>\n",
       "<p>155123 rows × 8 columns</p>\n",
       "</div>"
      ],
      "text/plain": [
       "                            created_at               id_str  \\\n",
       "0       Sat Feb 20 03:09:10 +0000 2021  1362962469749153792   \n",
       "1       Sat Feb 20 03:19:59 +0000 2021  1362965193509265417   \n",
       "2       Mon Feb 22 23:55:08 +0000 2021  1364000806740111363   \n",
       "3       Tue Feb 23 00:09:14 +0000 2021  1364004354374696963   \n",
       "4       Tue Feb 23 00:00:17 +0000 2021  1364002100364128260   \n",
       "...                                ...                  ...   \n",
       "163174  Tue Jan 12 23:24:10 +0000 2021  1349135109010677767   \n",
       "163175  Wed Jan 13 01:56:56 +0000 2021  1349173553833381888   \n",
       "163176  Wed Jan 13 02:02:07 +0000 2021  1349174860702953474   \n",
       "163177  Tue Jan 12 15:07:16 +0000 2021  1349010059712491522   \n",
       "163178  Tue Jan 12 22:38:02 +0000 2021  1349123499030437888   \n",
       "\n",
       "                                                full_text  \\\n",
       "0       Seguimos esperando el comunicado de @norabar r...   \n",
       "1       @Clon_43 @norabar Nora estaba indignada porque...   \n",
       "2       Bueno, Alberto dijo Salud o Economía. La salud...   \n",
       "3                         @spitta1969 Tuit del mes Spitta   \n",
       "4                                @spitta1969 Estas onfire   \n",
       "...                                                   ...   \n",
       "163174  @Die_IsCast @norabar @enzosebastin221 Retuitea...   \n",
       "163175  @todosflotan @norabar @enzosebastin221 Sí, sí,...   \n",
       "163176  @Die_IsCast @norabar @enzosebastin221 seguí co...   \n",
       "163177  @mirtapsp @todosflotan @norabar Nora, trabaja ...   \n",
       "163178  @altiroweon @norabar @carlavizzotti https://t....   \n",
       "\n",
       "       in_reply_to_status_id  in_reply_to_user_id              user.id  \\\n",
       "0                        NaN                  NaN           2737379453   \n",
       "1        1362962469749153792           2737379453             32718111   \n",
       "2                        NaN                  NaN            252168075   \n",
       "3        1364000806740111363            252168075  1156346340802224128   \n",
       "4        1364000806740111363            252168075            153663816   \n",
       "...                      ...                  ...                  ...   \n",
       "163174   1349122147587940353           2955376486            176835482   \n",
       "163175   1349135109010677767            176835482           2955376486   \n",
       "163176   1349173553833381888           2955376486            176835482   \n",
       "163177   1349002034968719360            138734328  1219302815916527618   \n",
       "163178   1349099459033116675  1015463782259273728           2955376486   \n",
       "\n",
       "                                          user_retweeters sentiment  \n",
       "0       [2258074658, 159909978, 105301854, 290671142, ...       NaN  \n",
       "1                                                      []       NaN  \n",
       "2       [1238117630696972289, 37232479, 12792246571247...       NaN  \n",
       "3                                                      []       NaN  \n",
       "4                                                      []       NaN  \n",
       "...                                                   ...       ...  \n",
       "163174                                                 []       NaN  \n",
       "163175                                                 []       NaN  \n",
       "163176                                                 []       NaN  \n",
       "163177                                                 []       NaN  \n",
       "163178                                                 []       NaN  \n",
       "\n",
       "[155123 rows x 8 columns]"
      ]
     },
     "execution_count": 6,
     "metadata": {},
     "output_type": "execute_result"
    }
   ],
   "source": [
    "df"
   ]
  },
  {
   "cell_type": "markdown",
   "id": "0f4d4d6a-e839-4195-8645-cb2a6e2fc5b0",
   "metadata": {},
   "source": [
    "pos = nx.spring_layout(G) #specify layout for visual"
   ]
  },
  {
   "cell_type": "code",
   "execution_count": 92,
   "id": "92fdbfa7-4ffc-4823-b1ac-2525a6d6fcb6",
   "metadata": {},
   "outputs": [],
   "source": [
    "G = nx.Graph()\n"
   ]
  },
  {
   "cell_type": "code",
   "execution_count": 93,
   "id": "cc82a1e8-4ae2-4983-bc69-82209c61b956",
   "metadata": {},
   "outputs": [],
   "source": [
    "edges = df.apply( lambda row : [( row['user.id'] , v ) for v in row['user_retweeters']] ,  axis=1 )\n"
   ]
  },
  {
   "cell_type": "code",
   "execution_count": 94,
   "id": "0004398b-92d2-449e-83bb-d05b8dc3861d",
   "metadata": {},
   "outputs": [],
   "source": [
    "for edge in edges:\n",
    "    G.add_edges_from(edge)"
   ]
  },
  {
   "cell_type": "code",
   "execution_count": 95,
   "id": "4c50f15d-840e-4e4d-86e6-bdd60ab0698c",
   "metadata": {},
   "outputs": [
    {
     "name": "stdout",
     "output_type": "stream",
     "text": [
      "Name: \n",
      "Type: Graph\n",
      "Number of nodes: 39800\n",
      "Number of edges: 93404\n",
      "Average degree:   4.6937\n"
     ]
    }
   ],
   "source": [
    "print(nx.info(G))\n"
   ]
  },
  {
   "cell_type": "markdown",
   "id": "93f9b914-648a-43bf-b57f-b870531c6ba8",
   "metadata": {},
   "source": [
    "## Grado medio"
   ]
  },
  {
   "cell_type": "code",
   "execution_count": 11,
   "id": "e45925bf-88e1-4c67-8b11-df577e66c356",
   "metadata": {},
   "outputs": [
    {
     "data": {
      "text/plain": [
       "4.7081407035175875"
      ]
     },
     "execution_count": 11,
     "metadata": {},
     "output_type": "execute_result"
    }
   ],
   "source": [
    "deg_seq = np.array([k for v, k in G.degree()])\n",
    "\n",
    "grado_medio = sum(deg_seq) / len(deg_seq)\n",
    "grado_medio"
   ]
  },
  {
   "cell_type": "markdown",
   "id": "2cc4318f-e044-4038-9cfc-728c0d2bf10c",
   "metadata": {},
   "source": [
    "## Asortatividad"
   ]
  },
  {
   "cell_type": "code",
   "execution_count": 12,
   "id": "934170a5-73e4-4da3-aa36-3d1139a118cf",
   "metadata": {},
   "outputs": [
    {
     "data": {
      "text/plain": [
       "-0.25828280140489684"
      ]
     },
     "execution_count": 12,
     "metadata": {},
     "output_type": "execute_result"
    }
   ],
   "source": [
    "assortativity = nx.degree_pearson_correlation_coefficient(G)\n",
    "assortativity"
   ]
  },
  {
   "cell_type": "markdown",
   "id": "bd81d695-00b6-4dad-a1a4-f2ce784ff8b4",
   "metadata": {},
   "source": [
    "## Transitividad "
   ]
  },
  {
   "cell_type": "code",
   "execution_count": 13,
   "id": "6d7bce72-adfb-4a38-9e04-dbc7146350cc",
   "metadata": {},
   "outputs": [
    {
     "data": {
      "text/plain": [
       "0.00033160843475072696"
      ]
     },
     "execution_count": 13,
     "metadata": {},
     "output_type": "execute_result"
    }
   ],
   "source": [
    "transitivity = nx.transitivity(G)\n",
    "transitivity"
   ]
  },
  {
   "cell_type": "markdown",
   "id": "5108d463-61d0-4796-8dd8-625046270a71",
   "metadata": {},
   "source": [
    "## Coeficiente de clustering de Watts-Strogatz"
   ]
  },
  {
   "cell_type": "code",
   "execution_count": 14,
   "id": "85434ebd-6cd6-4c0b-b380-87ddd26eed27",
   "metadata": {},
   "outputs": [
    {
     "data": {
      "text/plain": [
       "0.06073576789848228"
      ]
     },
     "execution_count": 14,
     "metadata": {},
     "output_type": "execute_result"
    }
   ],
   "source": [
    "avg_clustering = nx.average_clustering(G)\n",
    "avg_clustering"
   ]
  },
  {
   "cell_type": "markdown",
   "id": "068c95a8-dcfb-4cb2-bcd4-99fc11d298ef",
   "metadata": {},
   "source": [
    "#### **2. Centralidad**\n",
    "\n",
    "Calcular 5 métricas de centralidad de nodos. Graficar la distribución de cada una de ellas ¿Existe alguna correlación entre las distintas centralidades? \n",
    "\n",
    "Hacer un ranking con los 10 nodos más centrales para cada métrica. ¿Hay coincidencia entre los rankings?. ¿Qué características tienen los usuarios más centrales y sus respectivos tweets?\n",
    "\n",
    "**Opcional:** Determinar si existe alguna correlación entre la centralidad de un nodo y su actividad en red social. Es decir, evaluar si los usuarios que más escriben son los más centrales o no.\n",
    "\n"
   ]
  },
  {
   "cell_type": "code",
   "execution_count": 15,
   "id": "13add8b4-d17a-470b-9d5b-0aeae3639ca0",
   "metadata": {},
   "outputs": [
    {
     "name": "stdout",
     "output_type": "stream",
     "text": [
      "IGRAPH UN-- 39800 93692 -- \n",
      "+ attr: name (v)\n"
     ]
    }
   ],
   "source": [
    "# Netoworkx no performa bien calculando algunas medidas de centralidad, es por ello que se prueba con igraph\n",
    "\n",
    "g_ig = ig.Graph.TupleList(G.edges())\n",
    "print(g_ig.summary())"
   ]
  },
  {
   "cell_type": "code",
   "execution_count": 16,
   "id": "1119a289-ca48-4866-b708-5ce3846bbd02",
   "metadata": {},
   "outputs": [],
   "source": [
    "df_metrics = g_ig.get_vertex_dataframe()\n"
   ]
  },
  {
   "cell_type": "code",
   "execution_count": 17,
   "id": "1540be6b-1638-406f-8d8f-06e9c5613be5",
   "metadata": {},
   "outputs": [],
   "source": [
    "btw = g_ig.betweenness()"
   ]
  },
  {
   "cell_type": "code",
   "execution_count": 18,
   "id": "b793cf57-f624-4338-b6a8-dca8bbeef1a5",
   "metadata": {},
   "outputs": [],
   "source": [
    "df_metrics['btw'] = btw\n"
   ]
  },
  {
   "cell_type": "code",
   "execution_count": 19,
   "id": "2f01bac5-3b97-4a23-a04a-a589d11a0a99",
   "metadata": {},
   "outputs": [],
   "source": [
    "closeness = g_ig.closeness()\n",
    "df_metrics['closeness']  = closeness\n"
   ]
  },
  {
   "cell_type": "code",
   "execution_count": 20,
   "id": "f705098b-46a2-4104-b022-0885cc0da521",
   "metadata": {},
   "outputs": [],
   "source": [
    "degree = g_ig.degree()"
   ]
  },
  {
   "cell_type": "code",
   "execution_count": 21,
   "id": "4e77474c-ce71-4a58-831c-bde5887f29b0",
   "metadata": {},
   "outputs": [],
   "source": [
    "df_metrics['degree'] = degree\n"
   ]
  },
  {
   "cell_type": "code",
   "execution_count": 22,
   "id": "4fca9c24-19f7-40c5-b398-ffae6fe67666",
   "metadata": {},
   "outputs": [],
   "source": [
    "eigenvector_centrality = g_ig.eigenvector_centrality()"
   ]
  },
  {
   "cell_type": "code",
   "execution_count": 23,
   "id": "27d54d54-84f7-4b73-8922-24214706ed6e",
   "metadata": {},
   "outputs": [],
   "source": [
    "df_metrics['eigenvector_centrality'] = eigenvector_centrality\n"
   ]
  },
  {
   "cell_type": "code",
   "execution_count": 24,
   "id": "fb93d607-ece1-42ac-9c44-5d870055f0f4",
   "metadata": {},
   "outputs": [],
   "source": [
    "page_rank = g_ig.pagerank()"
   ]
  },
  {
   "cell_type": "code",
   "execution_count": 25,
   "id": "2d03cffc-d61a-42ff-8b17-d3d9390974e4",
   "metadata": {},
   "outputs": [],
   "source": [
    "df_metrics['page_rank'] = page_rank\n"
   ]
  },
  {
   "cell_type": "code",
   "execution_count": 26,
   "id": "b32a7dfc-5a29-46c8-807d-3da788508e09",
   "metadata": {},
   "outputs": [],
   "source": [
    "har_centr = g_ig.harmonic_centrality()"
   ]
  },
  {
   "cell_type": "code",
   "execution_count": 27,
   "id": "b328a52c-362f-4c95-b625-9c85141b8f29",
   "metadata": {},
   "outputs": [],
   "source": [
    "df_metrics['har_centr'] = har_centr\n"
   ]
  },
  {
   "cell_type": "code",
   "execution_count": 28,
   "id": "44806295-5576-485c-a048-81a99ed6dc6d",
   "metadata": {},
   "outputs": [
    {
     "data": {
      "text/html": [
       "<div>\n",
       "<style scoped>\n",
       "    .dataframe tbody tr th:only-of-type {\n",
       "        vertical-align: middle;\n",
       "    }\n",
       "\n",
       "    .dataframe tbody tr th {\n",
       "        vertical-align: top;\n",
       "    }\n",
       "\n",
       "    .dataframe thead th {\n",
       "        text-align: right;\n",
       "    }\n",
       "</style>\n",
       "<table border=\"1\" class=\"dataframe\">\n",
       "  <thead>\n",
       "    <tr style=\"text-align: right;\">\n",
       "      <th></th>\n",
       "      <th>name</th>\n",
       "      <th>btw</th>\n",
       "      <th>closeness</th>\n",
       "      <th>degree</th>\n",
       "      <th>eigenvector_centrality</th>\n",
       "      <th>page_rank</th>\n",
       "      <th>har_centr</th>\n",
       "    </tr>\n",
       "    <tr>\n",
       "      <th>vertex ID</th>\n",
       "      <th></th>\n",
       "      <th></th>\n",
       "      <th></th>\n",
       "      <th></th>\n",
       "      <th></th>\n",
       "      <th></th>\n",
       "      <th></th>\n",
       "    </tr>\n",
       "  </thead>\n",
       "  <tbody>\n",
       "    <tr>\n",
       "      <th>0</th>\n",
       "      <td>2737379453</td>\n",
       "      <td>78110.382425</td>\n",
       "      <td>0.244898</td>\n",
       "      <td>9</td>\n",
       "      <td>0.000956</td>\n",
       "      <td>0.000038</td>\n",
       "      <td>0.250772</td>\n",
       "    </tr>\n",
       "    <tr>\n",
       "      <th>1</th>\n",
       "      <td>2258074658</td>\n",
       "      <td>129537.220362</td>\n",
       "      <td>0.286305</td>\n",
       "      <td>19</td>\n",
       "      <td>0.012419</td>\n",
       "      <td>0.000069</td>\n",
       "      <td>0.307703</td>\n",
       "    </tr>\n",
       "    <tr>\n",
       "      <th>2</th>\n",
       "      <td>159909978</td>\n",
       "      <td>0.000000</td>\n",
       "      <td>0.196722</td>\n",
       "      <td>1</td>\n",
       "      <td>0.000009</td>\n",
       "      <td>0.000007</td>\n",
       "      <td>0.198210</td>\n",
       "    </tr>\n",
       "    <tr>\n",
       "      <th>3</th>\n",
       "      <td>105301854</td>\n",
       "      <td>31182.763024</td>\n",
       "      <td>0.304398</td>\n",
       "      <td>10</td>\n",
       "      <td>0.013902</td>\n",
       "      <td>0.000036</td>\n",
       "      <td>0.325685</td>\n",
       "    </tr>\n",
       "    <tr>\n",
       "      <th>4</th>\n",
       "      <td>290671142</td>\n",
       "      <td>290056.063418</td>\n",
       "      <td>0.308014</td>\n",
       "      <td>15</td>\n",
       "      <td>0.014944</td>\n",
       "      <td>0.000056</td>\n",
       "      <td>0.329096</td>\n",
       "    </tr>\n",
       "    <tr>\n",
       "      <th>...</th>\n",
       "      <td>...</td>\n",
       "      <td>...</td>\n",
       "      <td>...</td>\n",
       "      <td>...</td>\n",
       "      <td>...</td>\n",
       "      <td>...</td>\n",
       "      <td>...</td>\n",
       "    </tr>\n",
       "    <tr>\n",
       "      <th>39795</th>\n",
       "      <td>2765081259</td>\n",
       "      <td>0.000000</td>\n",
       "      <td>1.000000</td>\n",
       "      <td>1</td>\n",
       "      <td>0.000000</td>\n",
       "      <td>0.000025</td>\n",
       "      <td>0.000025</td>\n",
       "    </tr>\n",
       "    <tr>\n",
       "      <th>39796</th>\n",
       "      <td>339254354</td>\n",
       "      <td>42342.871206</td>\n",
       "      <td>0.276895</td>\n",
       "      <td>6</td>\n",
       "      <td>0.000429</td>\n",
       "      <td>0.000031</td>\n",
       "      <td>0.281808</td>\n",
       "    </tr>\n",
       "    <tr>\n",
       "      <th>39797</th>\n",
       "      <td>346605471</td>\n",
       "      <td>0.000000</td>\n",
       "      <td>0.216851</td>\n",
       "      <td>1</td>\n",
       "      <td>0.000004</td>\n",
       "      <td>0.000008</td>\n",
       "      <td>0.217565</td>\n",
       "    </tr>\n",
       "    <tr>\n",
       "      <th>39798</th>\n",
       "      <td>58065646</td>\n",
       "      <td>0.000000</td>\n",
       "      <td>0.239956</td>\n",
       "      <td>1</td>\n",
       "      <td>0.000432</td>\n",
       "      <td>0.000006</td>\n",
       "      <td>0.246824</td>\n",
       "    </tr>\n",
       "    <tr>\n",
       "      <th>39799</th>\n",
       "      <td>823874633216692225</td>\n",
       "      <td>0.000000</td>\n",
       "      <td>0.261012</td>\n",
       "      <td>1</td>\n",
       "      <td>0.000263</td>\n",
       "      <td>0.000007</td>\n",
       "      <td>0.266737</td>\n",
       "    </tr>\n",
       "  </tbody>\n",
       "</table>\n",
       "<p>39800 rows × 7 columns</p>\n",
       "</div>"
      ],
      "text/plain": [
       "                         name            btw  closeness  degree  \\\n",
       "vertex ID                                                         \n",
       "0                  2737379453   78110.382425   0.244898       9   \n",
       "1                  2258074658  129537.220362   0.286305      19   \n",
       "2                   159909978       0.000000   0.196722       1   \n",
       "3                   105301854   31182.763024   0.304398      10   \n",
       "4                   290671142  290056.063418   0.308014      15   \n",
       "...                       ...            ...        ...     ...   \n",
       "39795              2765081259       0.000000   1.000000       1   \n",
       "39796               339254354   42342.871206   0.276895       6   \n",
       "39797               346605471       0.000000   0.216851       1   \n",
       "39798                58065646       0.000000   0.239956       1   \n",
       "39799      823874633216692225       0.000000   0.261012       1   \n",
       "\n",
       "           eigenvector_centrality  page_rank  har_centr  \n",
       "vertex ID                                                \n",
       "0                        0.000956   0.000038   0.250772  \n",
       "1                        0.012419   0.000069   0.307703  \n",
       "2                        0.000009   0.000007   0.198210  \n",
       "3                        0.013902   0.000036   0.325685  \n",
       "4                        0.014944   0.000056   0.329096  \n",
       "...                           ...        ...        ...  \n",
       "39795                    0.000000   0.000025   0.000025  \n",
       "39796                    0.000429   0.000031   0.281808  \n",
       "39797                    0.000004   0.000008   0.217565  \n",
       "39798                    0.000432   0.000006   0.246824  \n",
       "39799                    0.000263   0.000007   0.266737  \n",
       "\n",
       "[39800 rows x 7 columns]"
      ]
     },
     "execution_count": 28,
     "metadata": {},
     "output_type": "execute_result"
    }
   ],
   "source": [
    "df_metrics\n"
   ]
  },
  {
   "cell_type": "code",
   "execution_count": 30,
   "id": "5488addd-8e13-428d-abf1-2af0bdc3f656",
   "metadata": {},
   "outputs": [],
   "source": [
    "def get_top_usrs_by_metrics(columns, top_n , df ):\n",
    "   \n",
    "    data = {}\n",
    "    for col in columns:\n",
    "        top_families = df.nlargest(top_n, columns=[col])[col].index\n",
    "        data[col] = top_families\n",
    "    return pd.DataFrame(data)"
   ]
  },
  {
   "cell_type": "code",
   "execution_count": 31,
   "id": "c96ba0a0-1305-4c3a-a093-847b330919c9",
   "metadata": {},
   "outputs": [],
   "source": [
    "columns = ['btw', 'closeness', 'degree', 'eigenvector_centrality', 'page_rank', 'har_centr']\n",
    "\n",
    "df_top_by_metrics = get_top_usrs_by_metrics(columns, 10 , df_metrics)"
   ]
  },
  {
   "cell_type": "code",
   "execution_count": 32,
   "id": "bdd947b9-4fe4-471a-bbcc-bc5f6fb72172",
   "metadata": {},
   "outputs": [
    {
     "data": {
      "text/html": [
       "<div>\n",
       "<style scoped>\n",
       "    .dataframe tbody tr th:only-of-type {\n",
       "        vertical-align: middle;\n",
       "    }\n",
       "\n",
       "    .dataframe tbody tr th {\n",
       "        vertical-align: top;\n",
       "    }\n",
       "\n",
       "    .dataframe thead th {\n",
       "        text-align: right;\n",
       "    }\n",
       "</style>\n",
       "<table border=\"1\" class=\"dataframe\">\n",
       "  <thead>\n",
       "    <tr style=\"text-align: right;\">\n",
       "      <th></th>\n",
       "      <th>btw</th>\n",
       "      <th>closeness</th>\n",
       "      <th>degree</th>\n",
       "      <th>eigenvector_centrality</th>\n",
       "      <th>page_rank</th>\n",
       "      <th>har_centr</th>\n",
       "    </tr>\n",
       "  </thead>\n",
       "  <tbody>\n",
       "    <tr>\n",
       "      <th>0</th>\n",
       "      <td>20</td>\n",
       "      <td>27466</td>\n",
       "      <td>20</td>\n",
       "      <td>20</td>\n",
       "      <td>20</td>\n",
       "      <td>20</td>\n",
       "    </tr>\n",
       "    <tr>\n",
       "      <th>1</th>\n",
       "      <td>15271</td>\n",
       "      <td>27479</td>\n",
       "      <td>15271</td>\n",
       "      <td>15271</td>\n",
       "      <td>15271</td>\n",
       "      <td>15271</td>\n",
       "    </tr>\n",
       "    <tr>\n",
       "      <th>2</th>\n",
       "      <td>7996</td>\n",
       "      <td>27480</td>\n",
       "      <td>7996</td>\n",
       "      <td>7996</td>\n",
       "      <td>7996</td>\n",
       "      <td>7996</td>\n",
       "    </tr>\n",
       "    <tr>\n",
       "      <th>3</th>\n",
       "      <td>24746</td>\n",
       "      <td>28063</td>\n",
       "      <td>13554</td>\n",
       "      <td>21518</td>\n",
       "      <td>24746</td>\n",
       "      <td>13554</td>\n",
       "    </tr>\n",
       "    <tr>\n",
       "      <th>4</th>\n",
       "      <td>21518</td>\n",
       "      <td>28064</td>\n",
       "      <td>24746</td>\n",
       "      <td>13554</td>\n",
       "      <td>13554</td>\n",
       "      <td>4339</td>\n",
       "    </tr>\n",
       "    <tr>\n",
       "      <th>5</th>\n",
       "      <td>13554</td>\n",
       "      <td>28176</td>\n",
       "      <td>12756</td>\n",
       "      <td>12756</td>\n",
       "      <td>12756</td>\n",
       "      <td>21518</td>\n",
       "    </tr>\n",
       "    <tr>\n",
       "      <th>6</th>\n",
       "      <td>12756</td>\n",
       "      <td>28377</td>\n",
       "      <td>21518</td>\n",
       "      <td>24746</td>\n",
       "      <td>23095</td>\n",
       "      <td>6667</td>\n",
       "    </tr>\n",
       "    <tr>\n",
       "      <th>7</th>\n",
       "      <td>23095</td>\n",
       "      <td>28378</td>\n",
       "      <td>23095</td>\n",
       "      <td>13442</td>\n",
       "      <td>21518</td>\n",
       "      <td>7725</td>\n",
       "    </tr>\n",
       "    <tr>\n",
       "      <th>8</th>\n",
       "      <td>13442</td>\n",
       "      <td>28602</td>\n",
       "      <td>13442</td>\n",
       "      <td>23095</td>\n",
       "      <td>13442</td>\n",
       "      <td>2643</td>\n",
       "    </tr>\n",
       "    <tr>\n",
       "      <th>9</th>\n",
       "      <td>6762</td>\n",
       "      <td>28603</td>\n",
       "      <td>14291</td>\n",
       "      <td>446</td>\n",
       "      <td>14291</td>\n",
       "      <td>12756</td>\n",
       "    </tr>\n",
       "  </tbody>\n",
       "</table>\n",
       "</div>"
      ],
      "text/plain": [
       "     btw  closeness  degree  eigenvector_centrality  page_rank  har_centr\n",
       "0     20      27466      20                      20         20         20\n",
       "1  15271      27479   15271                   15271      15271      15271\n",
       "2   7996      27480    7996                    7996       7996       7996\n",
       "3  24746      28063   13554                   21518      24746      13554\n",
       "4  21518      28064   24746                   13554      13554       4339\n",
       "5  13554      28176   12756                   12756      12756      21518\n",
       "6  12756      28377   21518                   24746      23095       6667\n",
       "7  23095      28378   23095                   13442      21518       7725\n",
       "8  13442      28602   13442                   23095      13442       2643\n",
       "9   6762      28603   14291                     446      14291      12756"
      ]
     },
     "execution_count": 32,
     "metadata": {},
     "output_type": "execute_result"
    }
   ],
   "source": [
    "df_top_by_metrics"
   ]
  },
  {
   "cell_type": "markdown",
   "id": "1ca1d430-d94e-4ed9-98cc-7e2906d1c8a1",
   "metadata": {},
   "source": [
    " ¿Hay coincidencia entre los rankings?. ¿Qué características tienen los usuarios más centrales y sus respectivos tweets?"
   ]
  },
  {
   "cell_type": "markdown",
   "id": "c54297ac-87db-4e1d-824f-a85482cb16de",
   "metadata": {},
   "source": [
    "## HACER"
   ]
  },
  {
   "cell_type": "code",
   "execution_count": 34,
   "id": "c10821d2-f154-432d-8764-47b4f601f144",
   "metadata": {},
   "outputs": [
    {
     "data": {
      "text/html": [
       "<div>\n",
       "<style scoped>\n",
       "    .dataframe tbody tr th:only-of-type {\n",
       "        vertical-align: middle;\n",
       "    }\n",
       "\n",
       "    .dataframe tbody tr th {\n",
       "        vertical-align: top;\n",
       "    }\n",
       "\n",
       "    .dataframe thead th {\n",
       "        text-align: right;\n",
       "    }\n",
       "</style>\n",
       "<table border=\"1\" class=\"dataframe\">\n",
       "  <thead>\n",
       "    <tr style=\"text-align: right;\">\n",
       "      <th></th>\n",
       "      <th>name</th>\n",
       "      <th>btw</th>\n",
       "      <th>closeness</th>\n",
       "      <th>degree</th>\n",
       "      <th>eigenvector_centrality</th>\n",
       "      <th>page_rank</th>\n",
       "      <th>har_centr</th>\n",
       "    </tr>\n",
       "    <tr>\n",
       "      <th>vertex ID</th>\n",
       "      <th></th>\n",
       "      <th></th>\n",
       "      <th></th>\n",
       "      <th></th>\n",
       "      <th></th>\n",
       "      <th></th>\n",
       "      <th></th>\n",
       "    </tr>\n",
       "  </thead>\n",
       "  <tbody>\n",
       "    <tr>\n",
       "      <th>20</th>\n",
       "      <td>252168075</td>\n",
       "      <td>2.721111e+08</td>\n",
       "      <td>0.392229</td>\n",
       "      <td>8366</td>\n",
       "      <td>1.000000</td>\n",
       "      <td>0.040935</td>\n",
       "      <td>0.478310</td>\n",
       "    </tr>\n",
       "    <tr>\n",
       "      <th>15271</th>\n",
       "      <td>130979339</td>\n",
       "      <td>1.797415e+08</td>\n",
       "      <td>0.398115</td>\n",
       "      <td>5558</td>\n",
       "      <td>0.347800</td>\n",
       "      <td>0.033172</td>\n",
       "      <td>0.457576</td>\n",
       "    </tr>\n",
       "    <tr>\n",
       "      <th>7996</th>\n",
       "      <td>73102744</td>\n",
       "      <td>1.255262e+08</td>\n",
       "      <td>0.371290</td>\n",
       "      <td>5367</td>\n",
       "      <td>0.311946</td>\n",
       "      <td>0.030850</td>\n",
       "      <td>0.434693</td>\n",
       "    </tr>\n",
       "    <tr>\n",
       "      <th>13554</th>\n",
       "      <td>367933714</td>\n",
       "      <td>9.243807e+07</td>\n",
       "      <td>0.382177</td>\n",
       "      <td>3852</td>\n",
       "      <td>0.237615</td>\n",
       "      <td>0.021960</td>\n",
       "      <td>0.431454</td>\n",
       "    </tr>\n",
       "    <tr>\n",
       "      <th>24746</th>\n",
       "      <td>593189095</td>\n",
       "      <td>1.138296e+08</td>\n",
       "      <td>0.349051</td>\n",
       "      <td>3835</td>\n",
       "      <td>0.119383</td>\n",
       "      <td>0.029132</td>\n",
       "      <td>0.393269</td>\n",
       "    </tr>\n",
       "  </tbody>\n",
       "</table>\n",
       "</div>"
      ],
      "text/plain": [
       "                name           btw  closeness  degree  eigenvector_centrality  \\\n",
       "vertex ID                                                                       \n",
       "20         252168075  2.721111e+08   0.392229    8366                1.000000   \n",
       "15271      130979339  1.797415e+08   0.398115    5558                0.347800   \n",
       "7996        73102744  1.255262e+08   0.371290    5367                0.311946   \n",
       "13554      367933714  9.243807e+07   0.382177    3852                0.237615   \n",
       "24746      593189095  1.138296e+08   0.349051    3835                0.119383   \n",
       "\n",
       "           page_rank  har_centr  \n",
       "vertex ID                        \n",
       "20          0.040935   0.478310  \n",
       "15271       0.033172   0.457576  \n",
       "7996        0.030850   0.434693  \n",
       "13554       0.021960   0.431454  \n",
       "24746       0.029132   0.393269  "
      ]
     },
     "execution_count": 34,
     "metadata": {},
     "output_type": "execute_result"
    }
   ],
   "source": [
    "df_metrics.iloc[[20,15271,7996,13554,24746]]\n"
   ]
  },
  {
   "cell_type": "code",
   "execution_count": 76,
   "id": "6484f690-44ee-4c48-910a-7d59e506b9b2",
   "metadata": {},
   "outputs": [],
   "source": [
    "central_users =df[df['user.id'].isin(['252168075','130979339','73102744','367933714','593189095'])]"
   ]
  },
  {
   "cell_type": "code",
   "execution_count": 42,
   "id": "ffc47e63-f4b0-459b-8e76-dd0f313da4a4",
   "metadata": {},
   "outputs": [
    {
     "data": {
      "text/plain": [
       "Index(['created_at', 'id_str', 'full_text', 'in_reply_to_status_id',\n",
       "       'in_reply_to_user_id', 'user.id', 'user_retweeters', 'sentiment'],\n",
       "      dtype='object')"
      ]
     },
     "execution_count": 42,
     "metadata": {},
     "output_type": "execute_result"
    }
   ],
   "source": [
    "central_users.columns"
   ]
  },
  {
   "cell_type": "code",
   "execution_count": 77,
   "id": "deda6ba4-2b40-4713-b914-e116b1fcb6b0",
   "metadata": {},
   "outputs": [
    {
     "data": {
      "text/html": [
       "<div>\n",
       "<style scoped>\n",
       "    .dataframe tbody tr th:only-of-type {\n",
       "        vertical-align: middle;\n",
       "    }\n",
       "\n",
       "    .dataframe tbody tr th {\n",
       "        vertical-align: top;\n",
       "    }\n",
       "\n",
       "    .dataframe thead th {\n",
       "        text-align: right;\n",
       "    }\n",
       "</style>\n",
       "<table border=\"1\" class=\"dataframe\">\n",
       "  <thead>\n",
       "    <tr style=\"text-align: right;\">\n",
       "      <th></th>\n",
       "      <th>created_at</th>\n",
       "      <th>id_str</th>\n",
       "      <th>full_text</th>\n",
       "      <th>in_reply_to_status_id</th>\n",
       "      <th>in_reply_to_user_id</th>\n",
       "      <th>user.id</th>\n",
       "      <th>user_retweeters</th>\n",
       "      <th>sentiment</th>\n",
       "    </tr>\n",
       "  </thead>\n",
       "  <tbody>\n",
       "    <tr>\n",
       "      <th>count</th>\n",
       "      <td>6394</td>\n",
       "      <td>6394</td>\n",
       "      <td>6394</td>\n",
       "      <td>4905</td>\n",
       "      <td>4910</td>\n",
       "      <td>6394</td>\n",
       "      <td>6394</td>\n",
       "      <td>17</td>\n",
       "    </tr>\n",
       "    <tr>\n",
       "      <th>unique</th>\n",
       "      <td>6267</td>\n",
       "      <td>6392</td>\n",
       "      <td>6368</td>\n",
       "      <td>4879</td>\n",
       "      <td>1990</td>\n",
       "      <td>5</td>\n",
       "      <td>3703</td>\n",
       "      <td>3</td>\n",
       "    </tr>\n",
       "    <tr>\n",
       "      <th>top</th>\n",
       "      <td>Wed Mar 10 22:51:37 +0000 2021</td>\n",
       "      <td>1366950420350988294</td>\n",
       "      <td>@juliaquetglas2 ❤️</td>\n",
       "      <td>1356774782730203136</td>\n",
       "      <td>252168075</td>\n",
       "      <td>73102744</td>\n",
       "      <td>[]</td>\n",
       "      <td>Comentario</td>\n",
       "    </tr>\n",
       "    <tr>\n",
       "      <th>freq</th>\n",
       "      <td>4</td>\n",
       "      <td>2</td>\n",
       "      <td>6</td>\n",
       "      <td>3</td>\n",
       "      <td>703</td>\n",
       "      <td>2195</td>\n",
       "      <td>2457</td>\n",
       "      <td>13</td>\n",
       "    </tr>\n",
       "  </tbody>\n",
       "</table>\n",
       "</div>"
      ],
      "text/plain": [
       "                            created_at               id_str  \\\n",
       "count                             6394                 6394   \n",
       "unique                            6267                 6392   \n",
       "top     Wed Mar 10 22:51:37 +0000 2021  1366950420350988294   \n",
       "freq                                 4                    2   \n",
       "\n",
       "                 full_text in_reply_to_status_id in_reply_to_user_id  \\\n",
       "count                 6394                  4905                4910   \n",
       "unique                6368                  4879                1990   \n",
       "top     @juliaquetglas2 ❤️   1356774782730203136           252168075   \n",
       "freq                     6                     3                 703   \n",
       "\n",
       "         user.id user_retweeters   sentiment  \n",
       "count       6394            6394          17  \n",
       "unique         5            3703           3  \n",
       "top     73102744              []  Comentario  \n",
       "freq        2195            2457          13  "
      ]
     },
     "execution_count": 77,
     "metadata": {},
     "output_type": "execute_result"
    }
   ],
   "source": [
    "central_users.describe()"
   ]
  },
  {
   "cell_type": "code",
   "execution_count": 51,
   "id": "a345720a-2f3f-4a20-980c-8f6a2beca82b",
   "metadata": {},
   "outputs": [
    {
     "name": "stderr",
     "output_type": "stream",
     "text": [
      "C:\\Users\\Magui\\anaconda3\\lib\\site-packages\\pandas\\core\\frame.py:4462: SettingWithCopyWarning: \n",
      "A value is trying to be set on a copy of a slice from a DataFrame\n",
      "\n",
      "See the caveats in the documentation: https://pandas.pydata.org/pandas-docs/stable/user_guide/indexing.html#returning-a-view-versus-a-copy\n",
      "  return super().fillna(\n"
     ]
    }
   ],
   "source": [
    "central_users.fillna(0,inplace=True)"
   ]
  },
  {
   "cell_type": "code",
   "execution_count": 53,
   "id": "1af752d3-b556-4505-afc0-f306764ef3b8",
   "metadata": {},
   "outputs": [
    {
     "data": {
      "text/plain": [
       "user.id    sentiment \n",
       "130979339  0             1061\n",
       "252168075  0             1948\n",
       "           Apoyo            1\n",
       "           Comentario       3\n",
       "           Pregunta         1\n",
       "367933714  0              776\n",
       "           Comentario       6\n",
       "593189095  0              402\n",
       "           Comentario       1\n",
       "73102744   0             2190\n",
       "           Apoyo            2\n",
       "           Comentario       3\n",
       "Name: id_str, dtype: int64"
      ]
     },
     "execution_count": 53,
     "metadata": {},
     "output_type": "execute_result"
    }
   ],
   "source": [
    "central_users.groupby(by=['user.id','sentiment']).id_str.count()"
   ]
  },
  {
   "cell_type": "markdown",
   "id": "a9dc67b8-3dec-4bb5-a719-b96bc1776233",
   "metadata": {},
   "source": [
    "\n",
    "Son usuarios con muchos tweets, de hecho el 73102744 que está en tercer lugar en casi todas las medidas de centralidad es el que más tuits publicó. No se puede decir nada sobre sus sentimientos pues no están todos tageados.\n",
    "\n",
    "La gran mayoría de sus tuits son respuestas a otros usuarios"
   ]
  },
  {
   "cell_type": "code",
   "execution_count": 57,
   "id": "387137ca-17cf-46c4-8a03-4354d6e28139",
   "metadata": {},
   "outputs": [],
   "source": [
    "df1 = df.fillna(0).groupby(by=['user.id']).id_str.count()"
   ]
  },
  {
   "cell_type": "code",
   "execution_count": 71,
   "id": "f268c3eb-97be-4bde-b93b-07c96d2c347e",
   "metadata": {},
   "outputs": [
    {
     "data": {
      "text/plain": [
       "user.id\n",
       "73102744               2195\n",
       "252168075              1953\n",
       "130979339              1061\n",
       "2687724840              893\n",
       "367933714               782\n",
       "1077176953              410\n",
       "593189095               403\n",
       "312708081               290\n",
       "3015178264              289\n",
       "1273799426348331012     254\n",
       "931564592328781824      243\n",
       "956981248299282432      220\n",
       "144929758               205\n",
       "35680704                171\n",
       "4343677427              167\n",
       "Name: id_str, dtype: int64"
      ]
     },
     "execution_count": 71,
     "metadata": {},
     "output_type": "execute_result"
    }
   ],
   "source": [
    "df1.sort_values( ascending=False).head(15)"
   ]
  },
  {
   "cell_type": "code",
   "execution_count": 78,
   "id": "49352c63-f2fb-4357-a828-27bc426a7710",
   "metadata": {},
   "outputs": [
    {
     "data": {
      "text/html": [
       "<div>\n",
       "<style scoped>\n",
       "    .dataframe tbody tr th:only-of-type {\n",
       "        vertical-align: middle;\n",
       "    }\n",
       "\n",
       "    .dataframe tbody tr th {\n",
       "        vertical-align: top;\n",
       "    }\n",
       "\n",
       "    .dataframe thead th {\n",
       "        text-align: right;\n",
       "    }\n",
       "</style>\n",
       "<table border=\"1\" class=\"dataframe\">\n",
       "  <thead>\n",
       "    <tr style=\"text-align: right;\">\n",
       "      <th></th>\n",
       "      <th>created_at</th>\n",
       "      <th>id_str</th>\n",
       "      <th>full_text</th>\n",
       "      <th>in_reply_to_status_id</th>\n",
       "      <th>in_reply_to_user_id</th>\n",
       "      <th>user.id</th>\n",
       "      <th>user_retweeters</th>\n",
       "      <th>sentiment</th>\n",
       "    </tr>\n",
       "  </thead>\n",
       "  <tbody>\n",
       "    <tr>\n",
       "      <th>39</th>\n",
       "      <td>Sun Feb 28 23:51:37 +0000 2021</td>\n",
       "      <td>1366174247425556483</td>\n",
       "      <td>Argentina tiene hoy casi 18 muertos por millón...</td>\n",
       "      <td>NaN</td>\n",
       "      <td>NaN</td>\n",
       "      <td>73102744</td>\n",
       "      <td>[178105343, 2644056245, 4196856351, 215547565,...</td>\n",
       "      <td>NaN</td>\n",
       "    </tr>\n",
       "    <tr>\n",
       "      <th>107</th>\n",
       "      <td>Mon Mar 01 05:09:45 +0000 2021</td>\n",
       "      <td>1366254308426207232</td>\n",
       "      <td>@arroadri Inevitable a menos que se aceleren l...</td>\n",
       "      <td>1366218359730241543</td>\n",
       "      <td>171893542</td>\n",
       "      <td>73102744</td>\n",
       "      <td>[1083825689848135680]</td>\n",
       "      <td>NaN</td>\n",
       "    </tr>\n",
       "    <tr>\n",
       "      <th>111</th>\n",
       "      <td>Mon Mar 01 00:53:09 +0000 2021</td>\n",
       "      <td>1366189731235643394</td>\n",
       "      <td>@jadagui un rato, me cayeron los violentos</td>\n",
       "      <td>1366184037543460865</td>\n",
       "      <td>139058257</td>\n",
       "      <td>73102744</td>\n",
       "      <td>[]</td>\n",
       "      <td>NaN</td>\n",
       "    </tr>\n",
       "    <tr>\n",
       "      <th>114</th>\n",
       "      <td>Mon Mar 01 12:17:42 +0000 2021</td>\n",
       "      <td>1366362007063117827</td>\n",
       "      <td>@PTorricos Precisamente y cuidadosamente dije ...</td>\n",
       "      <td>1366357963099750404</td>\n",
       "      <td>1233442742312865792</td>\n",
       "      <td>73102744</td>\n",
       "      <td>[]</td>\n",
       "      <td>NaN</td>\n",
       "    </tr>\n",
       "    <tr>\n",
       "      <th>116</th>\n",
       "      <td>Mon Mar 01 02:43:39 +0000 2021</td>\n",
       "      <td>1366217542889598977</td>\n",
       "      <td>@Horacio86925173 Puse candado para evitar a lo...</td>\n",
       "      <td>1366185744574930944</td>\n",
       "      <td>1351278834147069953</td>\n",
       "      <td>73102744</td>\n",
       "      <td>[]</td>\n",
       "      <td>NaN</td>\n",
       "    </tr>\n",
       "    <tr>\n",
       "      <th>119</th>\n",
       "      <td>Mon Mar 01 00:05:53 +0000 2021</td>\n",
       "      <td>1366177838932631554</td>\n",
       "      <td>@cacerolapop 🥰</td>\n",
       "      <td>1366176472357101571</td>\n",
       "      <td>4497008602</td>\n",
       "      <td>73102744</td>\n",
       "      <td>[]</td>\n",
       "      <td>NaN</td>\n",
       "    </tr>\n",
       "    <tr>\n",
       "      <th>120</th>\n",
       "      <td>Mon Mar 01 03:32:38 +0000 2021</td>\n",
       "      <td>1366229867675664384</td>\n",
       "      <td>@musa_nancy ❤️</td>\n",
       "      <td>1366229748498718720</td>\n",
       "      <td>1873909063</td>\n",
       "      <td>73102744</td>\n",
       "      <td>[]</td>\n",
       "      <td>NaN</td>\n",
       "    </tr>\n",
       "    <tr>\n",
       "      <th>122</th>\n",
       "      <td>Mon Mar 01 03:49:05 +0000 2021</td>\n",
       "      <td>1366234007118225415</td>\n",
       "      <td>@musa_nancy Abrazo!</td>\n",
       "      <td>1366230372762218501</td>\n",
       "      <td>1873909063</td>\n",
       "      <td>73102744</td>\n",
       "      <td>[]</td>\n",
       "      <td>NaN</td>\n",
       "    </tr>\n",
       "    <tr>\n",
       "      <th>124</th>\n",
       "      <td>Mon Mar 01 00:51:33 +0000 2021</td>\n",
       "      <td>1366189329543032840</td>\n",
       "      <td>@vidal_aleta Se ve que no leiste nada, no te a...</td>\n",
       "      <td>1366186725341593601</td>\n",
       "      <td>984448926395793408</td>\n",
       "      <td>73102744</td>\n",
       "      <td>[]</td>\n",
       "      <td>NaN</td>\n",
       "    </tr>\n",
       "    <tr>\n",
       "      <th>128</th>\n",
       "      <td>Mon Mar 01 00:57:15 +0000 2021</td>\n",
       "      <td>1366190763625873415</td>\n",
       "      <td>@vidal_aleta No leíste el hilo completo y diji...</td>\n",
       "      <td>1366190098119860226</td>\n",
       "      <td>984448926395793408</td>\n",
       "      <td>73102744</td>\n",
       "      <td>[]</td>\n",
       "      <td>NaN</td>\n",
       "    </tr>\n",
       "  </tbody>\n",
       "</table>\n",
       "</div>"
      ],
      "text/plain": [
       "                         created_at               id_str  \\\n",
       "39   Sun Feb 28 23:51:37 +0000 2021  1366174247425556483   \n",
       "107  Mon Mar 01 05:09:45 +0000 2021  1366254308426207232   \n",
       "111  Mon Mar 01 00:53:09 +0000 2021  1366189731235643394   \n",
       "114  Mon Mar 01 12:17:42 +0000 2021  1366362007063117827   \n",
       "116  Mon Mar 01 02:43:39 +0000 2021  1366217542889598977   \n",
       "119  Mon Mar 01 00:05:53 +0000 2021  1366177838932631554   \n",
       "120  Mon Mar 01 03:32:38 +0000 2021  1366229867675664384   \n",
       "122  Mon Mar 01 03:49:05 +0000 2021  1366234007118225415   \n",
       "124  Mon Mar 01 00:51:33 +0000 2021  1366189329543032840   \n",
       "128  Mon Mar 01 00:57:15 +0000 2021  1366190763625873415   \n",
       "\n",
       "                                             full_text in_reply_to_status_id  \\\n",
       "39   Argentina tiene hoy casi 18 muertos por millón...                   NaN   \n",
       "107  @arroadri Inevitable a menos que se aceleren l...   1366218359730241543   \n",
       "111         @jadagui un rato, me cayeron los violentos   1366184037543460865   \n",
       "114  @PTorricos Precisamente y cuidadosamente dije ...   1366357963099750404   \n",
       "116  @Horacio86925173 Puse candado para evitar a lo...   1366185744574930944   \n",
       "119                                     @cacerolapop 🥰   1366176472357101571   \n",
       "120                                     @musa_nancy ❤️   1366229748498718720   \n",
       "122                                @musa_nancy Abrazo!   1366230372762218501   \n",
       "124  @vidal_aleta Se ve que no leiste nada, no te a...   1366186725341593601   \n",
       "128  @vidal_aleta No leíste el hilo completo y diji...   1366190098119860226   \n",
       "\n",
       "     in_reply_to_user_id   user.id  \\\n",
       "39                   NaN  73102744   \n",
       "107            171893542  73102744   \n",
       "111            139058257  73102744   \n",
       "114  1233442742312865792  73102744   \n",
       "116  1351278834147069953  73102744   \n",
       "119           4497008602  73102744   \n",
       "120           1873909063  73102744   \n",
       "122           1873909063  73102744   \n",
       "124   984448926395793408  73102744   \n",
       "128   984448926395793408  73102744   \n",
       "\n",
       "                                       user_retweeters sentiment  \n",
       "39   [178105343, 2644056245, 4196856351, 215547565,...       NaN  \n",
       "107                              [1083825689848135680]       NaN  \n",
       "111                                                 []       NaN  \n",
       "114                                                 []       NaN  \n",
       "116                                                 []       NaN  \n",
       "119                                                 []       NaN  \n",
       "120                                                 []       NaN  \n",
       "122                                                 []       NaN  \n",
       "124                                                 []       NaN  \n",
       "128                                                 []       NaN  "
      ]
     },
     "execution_count": 78,
     "metadata": {},
     "output_type": "execute_result"
    }
   ],
   "source": [
    "df[df['user.id'].isin(['73102744'])].head(10)"
   ]
  },
  {
   "cell_type": "markdown",
   "id": "931aa2e3-427e-4ed7-9c2d-675ad682b81d",
   "metadata": {},
   "source": [
    "#### **3. Comunidades**\n",
    "\n",
    "Utilizar el algoritmo de Louvain con el parámetro \"resolución\" igual a 1. Caracterizar las comunidades halladas (cantidad, distribución de tamaños). Utilizar la modularidad y otras dos métricas a elección para evaluar la calidad de la partición encontrada. \n",
    "\n",
    "Variar el parámetro \"resolución\" y observar cómo cambia la distribución de comunidades encontradas. ¿Existe algún valor para el cual se identifiquen dos grandes comunidades?\n",
    "\n",
    "Elegir otro algoritmo de detección de comunidades y comparar los resultados con los obtenidos anteriormente.\n",
    "\n",
    "**Opcional:** Correr el algoritmo de Louvain con distintas semillas aleatorias. Utilizar alguna métrica de comparación externa entre las particiones obtenidas para determinar en qué medida depende el algoritmo de la condición inicial."
   ]
  },
  {
   "cell_type": "code",
   "execution_count": 87,
   "id": "83a02d61-6982-448c-9402-ee8469f521da",
   "metadata": {},
   "outputs": [
    {
     "data": {
      "text/html": [
       "\n",
       "\t\t\t<script type=\"text/javascript\">\n",
       "\t\t\t<!--\n",
       "\t\t\t\t\n",
       "\t\t\t{\n",
       "\t\t\t\tvar element = document.getElementById('NetworKit_script');\n",
       "\t\t\t\tif (element) {\n",
       "\t\t\t\t\telement.parentNode.removeChild(element);\n",
       "\t\t\t\t}\n",
       "\t\t\t\telement = document.createElement('script');\n",
       "\t\t\t\telement.type = 'text/javascript';\n",
       "\t\t\t\telement.innerHTML = 'function NetworKit_pageEmbed(id) { var i, j; var elements; elements = document.getElementById(id).getElementsByClassName(\"Plot\"); for (i=0; i<elements.length; i++) { elements[i].id = id + \"_Plot_\" + i; var data = elements[i].getAttribute(\"data-image\").split(\"|\"); elements[i].removeAttribute(\"data-image\"); var content = \"<div class=\\\\\"Image\\\\\" id=\\\\\"\" + elements[i].id + \"_Image\\\\\" />\"; elements[i].innerHTML = content; elements[i].setAttribute(\"data-image-index\", 0); elements[i].setAttribute(\"data-image-length\", data.length); for (j=0; j<data.length; j++) { elements[i].setAttribute(\"data-image-\" + j, data[j]); } NetworKit_plotUpdate(elements[i]); elements[i].onclick = function (e) { NetworKit_overlayShow((e.target) ? e.target : e.srcElement); } } elements = document.getElementById(id).getElementsByClassName(\"HeatCell\"); for (i=0; i<elements.length; i++) { var data = parseFloat(elements[i].getAttribute(\"data-heat\")); var color = \"#00FF00\"; if (data <= 1 && data > 0) { color = \"hsla(0, 100%, 75%, \" + (data) + \")\"; } else if (data <= 0 && data >= -1) { color = \"hsla(240, 100%, 75%, \" + (-data) + \")\"; } elements[i].style.backgroundColor = color; } elements = document.getElementById(id).getElementsByClassName(\"Details\"); for (i=0; i<elements.length; i++) { elements[i].setAttribute(\"data-title\", \"-\"); NetworKit_toggleDetails(elements[i]); elements[i].onclick = function (e) { NetworKit_toggleDetails((e.target) ? e.target : e.srcElement); } } elements = document.getElementById(id).getElementsByClassName(\"MathValue\"); for (i=elements.length-1; i>=0; i--) { value = elements[i].innerHTML.trim(); if (value === \"nan\") { elements[i].parentNode.innerHTML = \"\" } } elements = document.getElementById(id).getElementsByClassName(\"SubCategory\"); for (i=elements.length-1; i>=0; i--) { value = elements[i].innerHTML.trim(); if (value === \"\") { elements[i].parentNode.removeChild(elements[i]) } } elements = document.getElementById(id).getElementsByClassName(\"Category\"); for (i=elements.length-1; i>=0; i--) { value = elements[i].innerHTML.trim(); if (value === \"\") { elements[i].parentNode.removeChild(elements[i]) } } var isFirefox = false; try { isFirefox = typeof InstallTrigger !== \"undefined\"; } catch (e) {} if (!isFirefox) { alert(\"Currently the function\\'s output is only fully supported by Firefox.\"); } } function NetworKit_plotUpdate(source) { var index = source.getAttribute(\"data-image-index\"); var data = source.getAttribute(\"data-image-\" + index); var image = document.getElementById(source.id + \"_Image\"); image.style.backgroundImage = \"url(\" + data + \")\"; } function NetworKit_showElement(id, show) { var element = document.getElementById(id); element.style.display = (show) ? \"block\" : \"none\"; } function NetworKit_overlayShow(source) { NetworKit_overlayUpdate(source); NetworKit_showElement(\"NetworKit_Overlay\", true); } function NetworKit_overlayUpdate(source) { document.getElementById(\"NetworKit_Overlay_Title\").innerHTML = source.title; var index = source.getAttribute(\"data-image-index\"); var data = source.getAttribute(\"data-image-\" + index); var image = document.getElementById(\"NetworKit_Overlay_Image\"); image.setAttribute(\"data-id\", source.id); image.style.backgroundImage = \"url(\" + data + \")\"; var link = document.getElementById(\"NetworKit_Overlay_Toolbar_Bottom_Save\"); link.href = data; link.download = source.title + \".svg\"; } function NetworKit_overlayImageShift(delta) { var image = document.getElementById(\"NetworKit_Overlay_Image\"); var source = document.getElementById(image.getAttribute(\"data-id\")); var index = parseInt(source.getAttribute(\"data-image-index\")); var length = parseInt(source.getAttribute(\"data-image-length\")); var index = (index+delta) % length; if (index < 0) { index = length + index; } source.setAttribute(\"data-image-index\", index); NetworKit_overlayUpdate(source); } function NetworKit_toggleDetails(source) { var childs = source.children; var show = false; if (source.getAttribute(\"data-title\") == \"-\") { source.setAttribute(\"data-title\", \"+\"); show = false; } else { source.setAttribute(\"data-title\", \"-\"); show = true; } for (i=0; i<childs.length; i++) { if (show) { childs[i].style.display = \"block\"; } else { childs[i].style.display = \"none\"; } } }';\n",
       "\t\t\t\telement.setAttribute('id', 'NetworKit_script');\n",
       "\t\t\t\tdocument.head.appendChild(element);\n",
       "\t\t\t}\n",
       "\t\t\n",
       "\t\t\t\t\n",
       "\t\t\t{\n",
       "\t\t\t\tvar element = document.getElementById('NetworKit_style');\n",
       "\t\t\t\tif (element) {\n",
       "\t\t\t\t\telement.parentNode.removeChild(element);\n",
       "\t\t\t\t}\n",
       "\t\t\t\telement = document.createElement('style');\n",
       "\t\t\t\telement.type = 'text/css';\n",
       "\t\t\t\telement.innerHTML = '.NetworKit_Page { font-family: Arial, Helvetica, sans-serif; font-size: 14px; } .NetworKit_Page .Value:before { font-family: Arial, Helvetica, sans-serif; font-size: 1.05em; content: attr(data-title) \":\"; margin-left: -2.5em; padding-right: 0.5em; } .NetworKit_Page .Details .Value:before { display: block; } .NetworKit_Page .Value { font-family: monospace; white-space: pre; padding-left: 2.5em; white-space: -moz-pre-wrap !important; white-space: -pre-wrap; white-space: -o-pre-wrap; white-space: pre-wrap; word-wrap: break-word; tab-size: 4; -moz-tab-size: 4; } .NetworKit_Page .Category { clear: both; padding-left: 1em; margin-bottom: 1.5em; } .NetworKit_Page .Category:before { content: attr(data-title); font-size: 1.75em; display: block; margin-left: -0.8em; margin-bottom: 0.5em; } .NetworKit_Page .SubCategory { margin-bottom: 1.5em; padding-left: 1em; } .NetworKit_Page .SubCategory:before { font-size: 1.6em; display: block; margin-left: -0.8em; margin-bottom: 0.5em; } .NetworKit_Page .SubCategory[data-title]:before { content: attr(data-title); } .NetworKit_Page .Block { display: block; } .NetworKit_Page .Block:after { content: \".\"; visibility: hidden; display: block; height: 0; clear: both; } .NetworKit_Page .Block .Thumbnail_Overview, .NetworKit_Page .Block .Thumbnail_ScatterPlot { width: 260px; float: left; } .NetworKit_Page .Block .Thumbnail_Overview img, .NetworKit_Page .Block .Thumbnail_ScatterPlot img { width: 260px; } .NetworKit_Page .Block .Thumbnail_Overview:before, .NetworKit_Page .Block .Thumbnail_ScatterPlot:before { display: block; text-align: center; font-weight: bold; } .NetworKit_Page .Block .Thumbnail_Overview:before { content: attr(data-title); } .NetworKit_Page .HeatCell { font-family: \"Courier New\", Courier, monospace; cursor: pointer; } .NetworKit_Page .HeatCell, .NetworKit_Page .HeatCellName { display: inline; padding: 0.1em; margin-right: 2px; background-color: #FFFFFF } .NetworKit_Page .HeatCellName { margin-left: 0.25em; } .NetworKit_Page .HeatCell:before { content: attr(data-heat); display: inline-block; color: #000000; width: 4em; text-align: center; } .NetworKit_Page .Measure { clear: both; } .NetworKit_Page .Measure .Details { cursor: pointer; } .NetworKit_Page .Measure .Details:before { content: \"[\" attr(data-title) \"]\"; display: block; } .NetworKit_Page .Measure .Details .Value { border-left: 1px dotted black; margin-left: 0.4em; padding-left: 3.5em; pointer-events: none; } .NetworKit_Page .Measure .Details .Spacer:before { content: \".\"; opacity: 0.0; pointer-events: none; } .NetworKit_Page .Measure .Plot { width: 440px; height: 440px; cursor: pointer; float: left; margin-left: -0.9em; margin-right: 20px; } .NetworKit_Page .Measure .Plot .Image { background-repeat: no-repeat; background-position: center center; background-size: contain; height: 100%; pointer-events: none; } .NetworKit_Page .Measure .Stat { width: 500px; float: left; } .NetworKit_Page .Measure .Stat .Group { padding-left: 1.25em; margin-bottom: 0.75em; } .NetworKit_Page .Measure .Stat .Group .Title { font-size: 1.1em; display: block; margin-bottom: 0.3em; margin-left: -0.75em; border-right-style: dotted; border-right-width: 1px; border-bottom-style: dotted; border-bottom-width: 1px; background-color: #D0D0D0; padding-left: 0.2em; } .NetworKit_Page .Measure .Stat .Group .List { -webkit-column-count: 3; -moz-column-count: 3; column-count: 3; } .NetworKit_Page .Measure .Stat .Group .List .Entry { position: relative; line-height: 1.75em; } .NetworKit_Page .Measure .Stat .Group .List .Entry[data-tooltip]:before { position: absolute; left: 0; top: -40px; background-color: #808080; color: #ffffff; height: 30px; line-height: 30px; border-radius: 5px; padding: 0 15px; content: attr(data-tooltip); white-space: nowrap; display: none; } .NetworKit_Page .Measure .Stat .Group .List .Entry[data-tooltip]:after { position: absolute; left: 15px; top: -10px; border-top: 7px solid #808080; border-left: 7px solid transparent; border-right: 7px solid transparent; content: \"\"; display: none; } .NetworKit_Page .Measure .Stat .Group .List .Entry[data-tooltip]:hover:after, .NetworKit_Page .Measure .Stat .Group .List .Entry[data-tooltip]:hover:before { display: block; } .NetworKit_Page .Measure .Stat .Group .List .Entry .MathValue { font-family: \"Courier New\", Courier, monospace; } .NetworKit_Page .Measure:after { content: \".\"; visibility: hidden; display: block; height: 0; clear: both; } .NetworKit_Page .PartitionPie { clear: both; } .NetworKit_Page .PartitionPie img { width: 600px; } #NetworKit_Overlay { left: 0px; top: 0px; display: none; position: absolute; width: 100%; height: 100%; background-color: rgba(0,0,0,0.6); z-index: 1000; } #NetworKit_Overlay_Title { position: absolute; color: white; transform: rotate(-90deg); width: 32em; height: 32em; padding-right: 0.5em; padding-top: 0.5em; text-align: right; font-size: 40px; } #NetworKit_Overlay .button { background: white; cursor: pointer; } #NetworKit_Overlay .button:before { size: 13px; display: inline-block; text-align: center; margin-top: 0.5em; margin-bottom: 0.5em; width: 1.5em; height: 1.5em; } #NetworKit_Overlay .icon-close:before { content: \"X\"; } #NetworKit_Overlay .icon-previous:before { content: \"P\"; } #NetworKit_Overlay .icon-next:before { content: \"N\"; } #NetworKit_Overlay .icon-save:before { content: \"S\"; } #NetworKit_Overlay_Toolbar_Top, #NetworKit_Overlay_Toolbar_Bottom { position: absolute; width: 40px; right: 13px; text-align: right; z-index: 1100; } #NetworKit_Overlay_Toolbar_Top { top: 0.5em; } #NetworKit_Overlay_Toolbar_Bottom { Bottom: 0.5em; } #NetworKit_Overlay_ImageContainer { position: absolute; top: 5%; left: 5%; height: 90%; width: 90%; background-repeat: no-repeat; background-position: center center; background-size: contain; } #NetworKit_Overlay_Image { height: 100%; width: 100%; background-repeat: no-repeat; background-position: center center; background-size: contain; }';\n",
       "\t\t\t\telement.setAttribute('id', 'NetworKit_style');\n",
       "\t\t\t\tdocument.head.appendChild(element);\n",
       "\t\t\t}\n",
       "\t\t\n",
       "\t\t\t\t\n",
       "\t\t\t{\n",
       "\t\t\t\tvar element = document.getElementById('NetworKit_Overlay');\n",
       "\t\t\t\tif (element) {\n",
       "\t\t\t\t\telement.parentNode.removeChild(element);\n",
       "\t\t\t\t}\n",
       "\t\t\t\telement = document.createElement('div');\n",
       "\t\t\t\telement.innerHTML = '<div id=\"NetworKit_Overlay_Toolbar_Top\"><div class=\"button icon-close\" id=\"NetworKit_Overlay_Close\" /></div><div id=\"NetworKit_Overlay_Title\" /> <div id=\"NetworKit_Overlay_ImageContainer\"> <div id=\"NetworKit_Overlay_Image\" /> </div> <div id=\"NetworKit_Overlay_Toolbar_Bottom\"> <div class=\"button icon-previous\" onclick=\"NetworKit_overlayImageShift(-1)\" /> <div class=\"button icon-next\" onclick=\"NetworKit_overlayImageShift(1)\" /> <a id=\"NetworKit_Overlay_Toolbar_Bottom_Save\"><div class=\"button icon-save\" /></a> </div>';\n",
       "\t\t\t\telement.setAttribute('id', 'NetworKit_Overlay');\n",
       "\t\t\t\tdocument.body.appendChild(element);\n",
       "\t\t\t\tdocument.getElementById('NetworKit_Overlay_Close').onclick = function (e) {\n",
       "\t\t\t\t\tdocument.getElementById('NetworKit_Overlay').style.display = 'none';\n",
       "\t\t\t\t}\n",
       "\t\t\t}\n",
       "\t\t\n",
       "\t\t\t-->\n",
       "\t\t\t</script>\n",
       "\t\t"
      ]
     },
     "metadata": {},
     "output_type": "display_data"
    }
   ],
   "source": [
    "import networkit as nk\n"
   ]
  },
  {
   "cell_type": "code",
   "execution_count": 96,
   "id": "c7937c76-4645-4c1a-a0f6-cdf5026dcdb6",
   "metadata": {},
   "outputs": [],
   "source": [
    "g_nk = nk.nxadapter.nx2nk(G)\n"
   ]
  },
  {
   "cell_type": "code",
   "execution_count": 97,
   "id": "cff1a52a-e387-4af8-b243-ee4ea2220626",
   "metadata": {},
   "outputs": [
    {
     "name": "stdout",
     "output_type": "stream",
     "text": [
      "Communities detected in 0.08295 [s]\n",
      "solution properties:\n",
      "-------------------  -----------\n",
      "# communities         365\n",
      "min community size      1\n",
      "max community size   7574\n",
      "avg. community size   109.041\n",
      "modularity              0.585817\n",
      "-------------------  -----------\n"
     ]
    }
   ],
   "source": [
    "plmCommunities_1 = nk.community.detectCommunities(g_nk, algo=nk.community.PLM(G = g_nk, refine = True , gamma = 1))\n"
   ]
  },
  {
   "cell_type": "code",
   "execution_count": 98,
   "id": "d1977c5d-8b34-4714-9987-3e9878374b70",
   "metadata": {},
   "outputs": [],
   "source": [
    "def get_communidades(communities):\n",
    "\n",
    "    \n",
    "    values = []\n",
    "\n",
    "    for index in range(communities.numberOfSubsets()):\n",
    "\n",
    "\n",
    "        values.append([communities.getMembers(index) , len(communities.getMembers(index)) ])\n",
    "        df = pd.DataFrame(values, columns = [ 'miembros' , 'cantidad'])\n",
    "\n",
    "    return df"
   ]
  },
  {
   "cell_type": "code",
   "execution_count": 99,
   "id": "7707c536-0bbb-4a6a-b213-bf67c62cdc18",
   "metadata": {},
   "outputs": [
    {
     "name": "stdout",
     "output_type": "stream",
     "text": [
      "Communities detected in 0.06296 [s]\n",
      "solution properties:\n",
      "-------------------  ------------\n",
      "# communities          339\n",
      "min community size       1\n",
      "max community size   22668\n",
      "avg. community size    117.404\n",
      "modularity               0.504088\n",
      "-------------------  ------------\n"
     ]
    }
   ],
   "source": [
    "plmCommunities_05 = nk.community.detectCommunities(g_nk, algo=nk.community.PLM(G = g_nk, refine = True , gamma = 0.3))\n",
    "\n"
   ]
  },
  {
   "cell_type": "code",
   "execution_count": 100,
   "id": "7083bb78-ea9a-4914-9754-2296969119d5",
   "metadata": {},
   "outputs": [
    {
     "data": {
      "text/html": [
       "<div>\n",
       "<style scoped>\n",
       "    .dataframe tbody tr th:only-of-type {\n",
       "        vertical-align: middle;\n",
       "    }\n",
       "\n",
       "    .dataframe tbody tr th {\n",
       "        vertical-align: top;\n",
       "    }\n",
       "\n",
       "    .dataframe thead th {\n",
       "        text-align: right;\n",
       "    }\n",
       "</style>\n",
       "<table border=\"1\" class=\"dataframe\">\n",
       "  <thead>\n",
       "    <tr style=\"text-align: right;\">\n",
       "      <th></th>\n",
       "      <th>miembros</th>\n",
       "      <th>cantidad</th>\n",
       "    </tr>\n",
       "  </thead>\n",
       "  <tbody>\n",
       "    <tr>\n",
       "      <th>1</th>\n",
       "      <td>{87, 88, 89, 90, 91, 92, 93, 94, 95, 96, 97, 9...</td>\n",
       "      <td>22668</td>\n",
       "    </tr>\n",
       "    <tr>\n",
       "      <th>0</th>\n",
       "      <td>{0, 1, 2, 3, 4, 5, 6, 7, 8, 9, 10, 11, 12, 13,...</td>\n",
       "      <td>15652</td>\n",
       "    </tr>\n",
       "    <tr>\n",
       "      <th>23</th>\n",
       "      <td>{27381, 7208, 20191, 20192, 20193, 20198, 2019...</td>\n",
       "      <td>189</td>\n",
       "    </tr>\n",
       "    <tr>\n",
       "      <th>34</th>\n",
       "      <td>{9318, 9319, 9320, 9321, 9322, 29978, 29979, 2...</td>\n",
       "      <td>106</td>\n",
       "    </tr>\n",
       "    <tr>\n",
       "      <th>4</th>\n",
       "      <td>{30748, 23583, 23584, 23585, 1589, 1590, 14929...</td>\n",
       "      <td>97</td>\n",
       "    </tr>\n",
       "    <tr>\n",
       "      <th>17</th>\n",
       "      <td>{26633, 26634, 26635, 26636, 26637, 26638, 266...</td>\n",
       "      <td>85</td>\n",
       "    </tr>\n",
       "    <tr>\n",
       "      <th>8</th>\n",
       "      <td>{33793, 33794, 33795, 33796, 33797, 33798, 337...</td>\n",
       "      <td>72</td>\n",
       "    </tr>\n",
       "    <tr>\n",
       "      <th>40</th>\n",
       "      <td>{34048, 34049, 34050, 34051, 34052, 34053, 340...</td>\n",
       "      <td>50</td>\n",
       "    </tr>\n",
       "    <tr>\n",
       "      <th>12</th>\n",
       "      <td>{3968, 3969, 3970, 3971, 3972, 3973, 3974, 397...</td>\n",
       "      <td>45</td>\n",
       "    </tr>\n",
       "    <tr>\n",
       "      <th>261</th>\n",
       "      <td>{32658, 32659, 32660, 32661, 32662, 32663, 326...</td>\n",
       "      <td>32</td>\n",
       "    </tr>\n",
       "  </tbody>\n",
       "</table>\n",
       "</div>"
      ],
      "text/plain": [
       "                                              miembros  cantidad\n",
       "1    {87, 88, 89, 90, 91, 92, 93, 94, 95, 96, 97, 9...     22668\n",
       "0    {0, 1, 2, 3, 4, 5, 6, 7, 8, 9, 10, 11, 12, 13,...     15652\n",
       "23   {27381, 7208, 20191, 20192, 20193, 20198, 2019...       189\n",
       "34   {9318, 9319, 9320, 9321, 9322, 29978, 29979, 2...       106\n",
       "4    {30748, 23583, 23584, 23585, 1589, 1590, 14929...        97\n",
       "17   {26633, 26634, 26635, 26636, 26637, 26638, 266...        85\n",
       "8    {33793, 33794, 33795, 33796, 33797, 33798, 337...        72\n",
       "40   {34048, 34049, 34050, 34051, 34052, 34053, 340...        50\n",
       "12   {3968, 3969, 3970, 3971, 3972, 3973, 3974, 397...        45\n",
       "261  {32658, 32659, 32660, 32661, 32662, 32663, 326...        32"
      ]
     },
     "execution_count": 100,
     "metadata": {},
     "output_type": "execute_result"
    }
   ],
   "source": [
    "df = get_communidades(plmCommunities_05)\n",
    "sorted_df = df.sort_values(axis=0, by=['cantidad'] , ascending=False)\n",
    "sorted_df[:10]"
   ]
  },
  {
   "cell_type": "code",
   "execution_count": null,
   "id": "10823a34-b836-469e-8b60-16609110769a",
   "metadata": {},
   "outputs": [],
   "source": [
    "\n"
   ]
  },
  {
   "cell_type": "code",
   "execution_count": null,
   "id": "3ec3dc27-d063-47cb-9638-06bbd4db91ba",
   "metadata": {},
   "outputs": [],
   "source": []
  },
  {
   "cell_type": "code",
   "execution_count": null,
   "id": "410b92ff-53ab-4c72-9fa3-1f9fcfeb2a47",
   "metadata": {},
   "outputs": [],
   "source": []
  },
  {
   "cell_type": "code",
   "execution_count": null,
   "id": "51de3a26-c08e-4dd7-8e25-9569e4ab2ea2",
   "metadata": {},
   "outputs": [],
   "source": []
  },
  {
   "cell_type": "code",
   "execution_count": null,
   "id": "2c41abcf-6b8f-4941-89db-de9fb0357c4c",
   "metadata": {},
   "outputs": [],
   "source": []
  },
  {
   "cell_type": "code",
   "execution_count": null,
   "id": "c164bfde-6994-46df-ad40-cbcc30e03134",
   "metadata": {},
   "outputs": [],
   "source": []
  },
  {
   "cell_type": "code",
   "execution_count": null,
   "id": "09a25b65-14ce-4d3f-8a12-1440134979ab",
   "metadata": {},
   "outputs": [],
   "source": []
  },
  {
   "cell_type": "markdown",
   "id": "079e39e1-9b78-4b44-9743-604bf0ca5a3a",
   "metadata": {
    "tags": []
   },
   "source": [
    "## Segunda parte\n",
    "\n",
    "### **4. Extracción de etiquetas**\n",
    "\n",
    "En el archivo [etiquetas.csv](https://drive.google.com/file/d/1LWY3VoIRt0xKwEbbtMXYePOGZvgPsQh-/view?usp=sharing) están las etiquetas para un pequeño subconjunto de nodos. Podemos interpretar el valor de la etiqueta como la pertenencia a una determinada clase, donde los usuarios de una misma clase en general tienden a expresar apoyo entre sí.\n",
    "\n",
    "- Determinar quiénes son los usuarios referentes de cada clase (utilizar alguna medida de centralidad calculada sobre el grafo de retweets).\n",
    "- Utiliando los resultados del práctico anterior, determinar si los usuarios de cada clase forman parte de distintas comunidades.\n",
    "\n",
    "**Opcional:** Reconstruir el archivo \"etiquetas.csv\". Para eso, hacer lo siguiente\n",
    "\n",
    "- Construir un grafo en donde los nodos sean usuarios, y donde los enlaces unan dos nodos si entre ellos hubo más respuestas de apoyo que de oposición.\n",
    "- Extraer las dos componentes más grandes del grafo. Esos serán nuestros nodos etiquetados.\n",
    "\n",
    "### **5. Embedding de nodos**\n",
    "\n",
    "- Generar un embedding del grafo de retweets utilizando el algoritmo `word2vec`.\n",
    "- Reducir a 2 la dimensionalidad del embedding utilizando [PCA](https://scikit-learn.org/stable/modules/generated/sklearn.decomposition.PCA.htmlhttps://scikit-learn.org/stable/modules/generated/sklearn.decomposition.PCA.html) y [t-SNE](https://scikit-learn.org/stable/modules/generated/sklearn.manifold.TSNE.htmlhttps://scikit-learn.org/stable/modules/generated/sklearn.manifold.TSNE.html).\n",
    "- Graficar los embeddings correspondientes a los datos etiquetados. ¿Es posible diferenciar unos de otros?\n",
    "\n",
    "**Opcional:** Graficar además los embeddings de los nodos que forman parte de las comunidades asociadas a cada clase. Determinar si el embedding permite distinguir cada comunidad.\n",
    "\n",
    "### **Opcional: 6. Redes neuronales de grafos**\n",
    "\n",
    "El archivo [word_vectors.csv](https://drive.google.com/file/d/1aoxugyMktKb0NQ8Pf3bdhKvh8BAj7YZz/view?usp=sharing) contiene un embedding de 300 dimensiones para cada tweet, otenido utilizando un modelo preentrenado de [FastText](https://fasttext.cc/). Construir una matriz de features para los nodos tomando, para cada usuario, el promedio de los vectores correspondientes a los tweets que escribió. Utilizando estos features, y tomando como ejemplos etiquetados los usuarios de \"etiquetas.csv\" entrenar una red neuronal de grafos para realizar una clasificación binaria sobre el resto de los nodos. Pueden utilizar como base el siguiente modelo:"
   ]
  },
  {
   "cell_type": "code",
   "execution_count": null,
   "id": "d5333b57-a167-46a6-af83-95d1960921d5",
   "metadata": {},
   "outputs": [],
   "source": [
    "class GCN(torch.nn.Module):\n",
    "    def __init__(self):\n",
    "        super(GCN, self).__init__()\n",
    "        torch.manual_seed(1234)\n",
    "        self.conv1 = GCNConv(dataset.num_features, 4)\n",
    "        self.conv2 = GCNConv(4, 4)\n",
    "        self.conv3 = GCNConv(4, 2)\n",
    "        self.classifier = Linear(2, dataset.num_classes)\n",
    "\n",
    "    def forward(self, x, edge_index):\n",
    "        h = self.conv1(x, edge_index)\n",
    "        h = h.tanh()\n",
    "        h = self.conv2(h, edge_index)\n",
    "        h = h.tanh()\n",
    "        h = self.conv3(h, edge_index)\n",
    "        h = h.tanh()  # Embedding final\n",
    "        \n",
    "        # Aplicamos un clasificador lineal sobre el embedding\n",
    "        out = self.classifier(h)\n",
    "\n",
    "        return out, h"
   ]
  },
  {
   "cell_type": "markdown",
   "id": "319c67f8-f2aa-4b95-8f0a-9a6c8f28b221",
   "metadata": {},
   "source": [
    "**Observación:** para alimentar la red neuronal, es necesario construir un objeto de la clase `Dataset` de PyTorch-Geometric. Una forma de hacer eso es la siguiente"
   ]
  },
  {
   "cell_type": "code",
   "execution_count": null,
   "id": "3bc2f06b-eb86-4970-ba98-618267618521",
   "metadata": {},
   "outputs": [],
   "source": [
    "from torch_geometric.data import InMemoryDataset, Data\n",
    "\n",
    "## Reemplazar por el grafo correspondiente\n",
    "g = nx.Graph()\n",
    "\n",
    "## Etiquetas. Reemplazar por las clases del archivo 'etiquetas.csv'.\n",
    "## Asignar la clase '2' a los ejemplos no etiquetados\n",
    "labels = [1, 0, 2, ..., 1]\n",
    "\n",
    "## True si el ejemplo está etiquetado (clases 0 y 1)\n",
    "train_idx = [True, True, False, ..., True]\n",
    "\n",
    "## Matriz de features (word vectors)\n",
    "features = ...\n",
    "\n",
    "adj = nx.to_scipy_sparse_matrix(g).tocoo()\n",
    "row = torch.from_numpy(adj.row.astype(np.int64)).to(torch.long)\n",
    "col = torch.from_numpy(adj.col.astype(np.int64)).to(torch.long)\n",
    "edge_index = torch.stack([row, col], dim=0)\n",
    "\n",
    "\n",
    "class TwitterDataset(InMemoryDataset):\n",
    "    def __init__(self, transform=None):\n",
    "        super(TwitterDataset, self).__init__('.', transform, None, None)\n",
    "\n",
    "        data = Data(edge_index=edge_index)\n",
    "        \n",
    "        data.num_nodes = g.number_of_nodes()\n",
    "        \n",
    "        # Features \n",
    "        data.x = torch.from_numpy(features).type(torch.float32)\n",
    "        \n",
    "        # Etiquetas\n",
    "        y = torch.from_numpy(labels).type(torch.long)\n",
    "        data.y = y.clone().detach()\n",
    "        \n",
    "        data.num_classes = 2\n",
    "        \n",
    "        n_nodes = g.number_of_nodes()\n",
    "        \n",
    "        # create train and test masks for data\n",
    "        train_mask = torch.zeros(n_nodes, dtype=torch.bool)\n",
    "        train_mask[train_idx] = True\n",
    "        data['train_mask'] = train_mask\n",
    "\n",
    "        self.data, self.slices = self.collate([data])\n",
    "\n",
    "    def _download(self):\n",
    "        return\n",
    "\n",
    "    def _process(self):\n",
    "        return\n",
    "\n",
    "    def __repr__(self):\n",
    "        return '{}()'.format(self.__class__.__name__)"
   ]
  }
 ],
 "metadata": {
  "kernelspec": {
   "display_name": "Python 3",
   "language": "python",
   "name": "python3"
  },
  "language_info": {
   "codemirror_mode": {
    "name": "ipython",
    "version": 3
   },
   "file_extension": ".py",
   "mimetype": "text/x-python",
   "name": "python",
   "nbconvert_exporter": "python",
   "pygments_lexer": "ipython3",
   "version": "3.8.8"
  }
 },
 "nbformat": 4,
 "nbformat_minor": 5
}
